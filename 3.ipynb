{
 "cells": [
  {
   "cell_type": "code",
   "execution_count": 3,
   "id": "4a806739-55db-4723-9c11-ade878d21f35",
   "metadata": {},
   "outputs": [
    {
     "name": "stdout",
     "output_type": "stream",
     "text": [
      "Train Acc: 1.00, Test Acc: 0.95\n"
     ]
    }
   ],
   "source": [
    "import pandas as pd\n",
    "from sklearn.model_selection import train_test_split\n",
    "from sklearn.tree import DecisionTreeClassifier\n",
    "from sklearn.metrics import accuracy_score\n",
    "\n",
    "# Load data, split, and train\n",
    "df = pd.read_csv(\"breast_cancer.csv\").iloc[:, :-1]\n",
    "x_train, x_test, y_train, y_test = train_test_split(df.iloc[:, 2:], df.diagnosis, test_size=0.2)\n",
    "model = DecisionTreeClassifier().fit(x_train, y_train)\n",
    "\n",
    "# Evaluate\n",
    "print(f\"Train Acc: {model.score(x_train, y_train):.2f}, Test Acc: {model.score(x_test, y_test):.2f}\")\n"
   ]
  },
  {
   "cell_type": "code",
   "execution_count": null,
   "id": "6f8ffc75-dc4d-47d5-a72b-8a45c92cd5ff",
   "metadata": {},
   "outputs": [],
   "source": []
  }
 ],
 "metadata": {
  "kernelspec": {
   "display_name": "Python 3 (ipykernel)",
   "language": "python",
   "name": "python3"
  },
  "language_info": {
   "codemirror_mode": {
    "name": "ipython",
    "version": 3
   },
   "file_extension": ".py",
   "mimetype": "text/x-python",
   "name": "python",
   "nbconvert_exporter": "python",
   "pygments_lexer": "ipython3",
   "version": "3.12.7"
  }
 },
 "nbformat": 4,
 "nbformat_minor": 5
}

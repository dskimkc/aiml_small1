{
 "cells": [
  {
   "cell_type": "code",
   "execution_count": 4,
   "id": "1199666b-b685-4531-a081-6d00699cd939",
   "metadata": {},
   "outputs": [
    {
     "name": "stdout",
     "output_type": "stream",
     "text": [
      "Coefficients: [-0.47889172  0.09137252  0.90144884], R²: 0.9097\n"
     ]
    }
   ],
   "source": [
    "import numpy as np\n",
    "import pandas as pd\n",
    "\n",
    "# Load data and prepare variables\n",
    "data = pd.read_csv('student.csv')\n",
    "X = np.c_[np.ones(len(data)), data[['Math', 'Reading']]]\n",
    "Y = data['Writing']\n",
    "B = np.zeros(X.shape[1])\n",
    "\n",
    "# Gradient Descent\n",
    "for _ in range(100000):\n",
    "    B -= 0.0001 * (X.T @ (X @ B - Y)) / len(Y)\n",
    "\n",
    "# Evaluation\n",
    "r2 = 1 - np.sum((Y - X @ B)**2) / np.sum((Y - Y.mean())**2)\n",
    "print(f\"Coefficients: {B}, R²: {r2:.4f}\")\n"
   ]
  },
  {
   "cell_type": "code",
   "execution_count": 5,
   "id": "e8fcaf72-fe77-42e8-a792-255a387470ff",
   "metadata": {},
   "outputs": [
    {
     "name": "stdout",
     "output_type": "stream",
     "text": [
      "   AREA  FLOOR  ROOM CODE  PRICE\n",
      "0  1000      7     2    B   5618\n",
      "1  1030      7     1    A   5201\n",
      "2  1060      1     1    A   4779\n",
      "3  1090      6     1    A   5425\n",
      "4  1120      0     2    B   5657\n",
      "<class 'pandas.core.frame.DataFrame'>\n",
      "RangeIndex: 50 entries, 0 to 49\n",
      "Data columns (total 5 columns):\n",
      " #   Column  Non-Null Count  Dtype \n",
      "---  ------  --------------  ----- \n",
      " 0   AREA    50 non-null     int64 \n",
      " 1   FLOOR   50 non-null     int64 \n",
      " 2   ROOM    50 non-null     int64 \n",
      " 3   CODE    50 non-null     object\n",
      " 4   PRICE   50 non-null     int64 \n",
      "dtypes: int64(4), object(1)\n",
      "memory usage: 2.1+ KB\n",
      "None\n",
      "Intercept: -3106.4127920034116, Coefficients: [   4.68576316   71.78274093 1894.45529322], R2_Train: 0.9646204930750824, R2_Test: 0.8606154687481633\n"
     ]
    }
   ],
   "source": [
    "import pandas as pd\n",
    "from sklearn.model_selection import train_test_split\n",
    "from sklearn.linear_model import LinearRegression\n",
    "\n",
    "df = pd.read_csv(\"housing_prices.csv\")  # Load the dataset\n",
    "print(df.head())  # Inspect the dataset\n",
    "print(df.info())  # Check column names and types\n",
    "\n",
    "# Update these lines based on the dataset structure\n",
    "x = df[['AREA', 'FLOOR', 'ROOM']].values  # Use actual column names\n",
    "y = df['PRICE'].values\n",
    "\n",
    "x_train, x_test, y_train, y_test = train_test_split(x, y, test_size=0.2, random_state=100)\n",
    "\n",
    "mlr_model = LinearRegression()\n",
    "mlr_model.fit(x_train, y_train)\n",
    "\n",
    "print(f\"Intercept: {mlr_model.intercept_}, Coefficients: {mlr_model.coef_}, \"\n",
    "      f\"R2_Train: {mlr_model.score(x_train, y_train)}, R2_Test: {mlr_model.score(x_test, y_test)}\")\n"
   ]
  }
 ],
 "metadata": {
  "kernelspec": {
   "display_name": "Python 3 (ipykernel)",
   "language": "python",
   "name": "python3"
  },
  "language_info": {
   "codemirror_mode": {
    "name": "ipython",
    "version": 3
   },
   "file_extension": ".py",
   "mimetype": "text/x-python",
   "name": "python",
   "nbconvert_exporter": "python",
   "pygments_lexer": "ipython3",
   "version": "3.12.7"
  }
 },
 "nbformat": 4,
 "nbformat_minor": 5
}
